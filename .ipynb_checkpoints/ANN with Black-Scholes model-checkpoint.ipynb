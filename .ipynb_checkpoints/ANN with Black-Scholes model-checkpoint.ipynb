{
 "cells": [
  {
   "cell_type": "markdown",
   "id": "5160350e",
   "metadata": {},
   "source": [
    "1. Generate random numbers for the Black-Scholes model parameters\n",
    "2. Calculate call option prices.\n",
    "3. Buill an ANN on this."
   ]
  },
  {
   "cell_type": "code",
   "execution_count": 1,
   "id": "241f5c83",
   "metadata": {},
   "outputs": [],
   "source": [
    "import pandas as pd\n",
    "import numpy as np \n",
    "import matplotlib.pyplot as plt\n",
    "from scipy.stats import norm\n",
    "\n",
    "from sklearn.model_selection import train_test_split\n",
    "from sklearn.linear_model import LinearRegression\n",
    "from sklearn.metrics import mean_squared_error\n",
    "from sklearn.preprocessing import StandardScaler\n",
    "\n",
    "\n",
    "import tensorflow as tf\n",
    "from tensorflow.keras.layers import Dense\n",
    "from tensorflow import keras"
   ]
  },
  {
   "cell_type": "markdown",
   "id": "cab1a800",
   "metadata": {},
   "source": [
    "We will focus on call options. The formula is given below:\n",
    "\n",
    "$c = {S_0}N(d_1) - Ke^{-rT}N(d_2)$</br>\n",
    "$d_1 = \\frac{ \\ln{\\frac{S_0}{K}} + (r+0.5{\\sigma}^2)T}{\\sigma\\sqrt{T}}$</br>\n",
    "$d_2 = d_1 - \\sigma\\sqrt{T} $\n"
   ]
  },
  {
   "cell_type": "markdown",
   "id": "d3813453",
   "metadata": {},
   "source": [
    "S<sub>0</sub> = stock price at time 0</br>\n",
    "K = strike Price</br>\n",
    "r = risk free rate of interest</br>\n",
    "T = time to maturity of the call option</br>\n",
    "$\\sigma$ = volatility of the stock price</br>\n",
    "\n",
    "N(x) = Cumulative distribution function of a standard normal random variable x"
   ]
  },
  {
   "cell_type": "markdown",
   "id": "2d61bde6",
   "metadata": {},
   "source": [
    "## Random Number Generation of the parameters\n"
   ]
  },
  {
   "cell_type": "code",
   "execution_count": 2,
   "id": "0c2b081d",
   "metadata": {},
   "outputs": [],
   "source": [
    "m = 20000\n",
    "\n",
    "S = np.random.uniform(100,150,m)\n",
    "K = np.random.uniform(0.5*S,1.5*S,m)\n",
    "r = np.random.uniform(0,0.05,m)\n",
    "sigma = np.random.uniform(0.1,0.4,m)\n",
    "T = np.random.uniform(0.25,1,m)"
   ]
  },
  {
   "cell_type": "markdown",
   "id": "c13e3948",
   "metadata": {},
   "source": [
    "## Calculate Call Option prices using Black Scholes Formula"
   ]
  },
  {
   "cell_type": "code",
   "execution_count": 3,
   "id": "3b8a2617",
   "metadata": {},
   "outputs": [],
   "source": [
    "def get_bs_call(S,K,r,sigma,T):\n",
    "    \n",
    "    d1 = (np.log(S/K) + (r+0.5*(sigma**2))*T)/(sigma*np.sqrt(T))\n",
    "    d2 = d1 - sigma*np.sqrt(T)\n",
    "    \n",
    "    c = S*norm.cdf(d1) - K*np.exp(-r*T)*norm.cdf(d2)\n",
    "    \n",
    "    return c\n",
    "    "
   ]
  },
  {
   "cell_type": "code",
   "execution_count": 4,
   "id": "6d0a1090",
   "metadata": {},
   "outputs": [],
   "source": [
    "C = []\n",
    "\n",
    "for i in range(m):\n",
    "    \n",
    "    calls = get_bs_call(S[i],K[i],r[i],sigma[i],T[i])\n",
    "    C.append(calls)"
   ]
  },
  {
   "cell_type": "markdown",
   "id": "7f9bcf45",
   "metadata": {},
   "source": [
    "## Prepare the data to train the ANN"
   ]
  },
  {
   "cell_type": "code",
   "execution_count": 5,
   "id": "363fe89e",
   "metadata": {},
   "outputs": [],
   "source": [
    "data = {'Spot Price':S,'Strike Price':K,'Risk free rate':r,'Volatility':sigma,'Maturity(yrs)':T,'Call price':C}\n",
    "df = pd.DataFrame(data)"
   ]
  },
  {
   "cell_type": "code",
   "execution_count": 6,
   "id": "eb9d3f92",
   "metadata": {},
   "outputs": [
    {
     "data": {
      "text/html": [
       "<div>\n",
       "<style scoped>\n",
       "    .dataframe tbody tr th:only-of-type {\n",
       "        vertical-align: middle;\n",
       "    }\n",
       "\n",
       "    .dataframe tbody tr th {\n",
       "        vertical-align: top;\n",
       "    }\n",
       "\n",
       "    .dataframe thead th {\n",
       "        text-align: right;\n",
       "    }\n",
       "</style>\n",
       "<table border=\"1\" class=\"dataframe\">\n",
       "  <thead>\n",
       "    <tr style=\"text-align: right;\">\n",
       "      <th></th>\n",
       "      <th>Spot Price</th>\n",
       "      <th>Strike Price</th>\n",
       "      <th>Risk free rate</th>\n",
       "      <th>Volatility</th>\n",
       "      <th>Maturity(yrs)</th>\n",
       "      <th>Call price</th>\n",
       "    </tr>\n",
       "  </thead>\n",
       "  <tbody>\n",
       "    <tr>\n",
       "      <th>0</th>\n",
       "      <td>130.126859</td>\n",
       "      <td>138.970060</td>\n",
       "      <td>0.012503</td>\n",
       "      <td>0.268168</td>\n",
       "      <td>0.734917</td>\n",
       "      <td>8.835933</td>\n",
       "    </tr>\n",
       "    <tr>\n",
       "      <th>1</th>\n",
       "      <td>114.163172</td>\n",
       "      <td>105.945297</td>\n",
       "      <td>0.047014</td>\n",
       "      <td>0.326793</td>\n",
       "      <td>0.911907</td>\n",
       "      <td>20.631401</td>\n",
       "    </tr>\n",
       "    <tr>\n",
       "      <th>2</th>\n",
       "      <td>139.044358</td>\n",
       "      <td>71.279333</td>\n",
       "      <td>0.048547</td>\n",
       "      <td>0.310704</td>\n",
       "      <td>0.684193</td>\n",
       "      <td>70.117790</td>\n",
       "    </tr>\n",
       "    <tr>\n",
       "      <th>3</th>\n",
       "      <td>137.627247</td>\n",
       "      <td>144.918993</td>\n",
       "      <td>0.020122</td>\n",
       "      <td>0.372683</td>\n",
       "      <td>0.901877</td>\n",
       "      <td>17.404779</td>\n",
       "    </tr>\n",
       "    <tr>\n",
       "      <th>4</th>\n",
       "      <td>114.999427</td>\n",
       "      <td>134.138861</td>\n",
       "      <td>0.021224</td>\n",
       "      <td>0.292968</td>\n",
       "      <td>0.591038</td>\n",
       "      <td>4.464942</td>\n",
       "    </tr>\n",
       "  </tbody>\n",
       "</table>\n",
       "</div>"
      ],
      "text/plain": [
       "   Spot Price  Strike Price  Risk free rate  Volatility  Maturity(yrs)   \n",
       "0  130.126859    138.970060        0.012503    0.268168       0.734917  \\\n",
       "1  114.163172    105.945297        0.047014    0.326793       0.911907   \n",
       "2  139.044358     71.279333        0.048547    0.310704       0.684193   \n",
       "3  137.627247    144.918993        0.020122    0.372683       0.901877   \n",
       "4  114.999427    134.138861        0.021224    0.292968       0.591038   \n",
       "\n",
       "   Call price  \n",
       "0    8.835933  \n",
       "1   20.631401  \n",
       "2   70.117790  \n",
       "3   17.404779  \n",
       "4    4.464942  "
      ]
     },
     "execution_count": 6,
     "metadata": {},
     "output_type": "execute_result"
    }
   ],
   "source": [
    "df.head()"
   ]
  },
  {
   "cell_type": "code",
   "execution_count": 7,
   "id": "8b987751",
   "metadata": {},
   "outputs": [],
   "source": [
    "X = df.drop('Call price',axis =1)\n",
    "y = df['Call price']"
   ]
  },
  {
   "cell_type": "code",
   "execution_count": 8,
   "id": "6082e0c1",
   "metadata": {},
   "outputs": [],
   "source": [
    "# divide data into training set and test set\n",
    "X_train,X_test,y_train,y_test=train_test_split(X,y,test_size=0.25,random_state=100)\n",
    "\n",
    "# divide training set into training and validation set\n",
    "X_train,X_val,y_train,y_val=train_test_split(X_train,y_train,test_size=0.25,random_state=100)"
   ]
  },
  {
   "cell_type": "code",
   "execution_count": 9,
   "id": "b1b7e598",
   "metadata": {},
   "outputs": [],
   "source": [
    "# Scale features\n",
    "scaler = StandardScaler()\n",
    "scaler.fit(X_train)\n",
    "\n",
    "\n",
    "X_scaled_train = scaler.transform(X_train)\n",
    "X_scaled_vals = scaler.transform(X_val)\n",
    "X_scaled_test = scaler.transform(X_test)\n",
    "y_train = np.asarray(y_train)\n",
    "y_val = np.asarray(y_val)\n",
    "y_test = np.asarray(y_test)"
   ]
  },
  {
   "cell_type": "code",
   "execution_count": 10,
   "id": "8d6d0df2",
   "metadata": {},
   "outputs": [
    {
     "name": "stdout",
     "output_type": "stream",
     "text": [
      "Metal device set to: Apple M1\n",
      "Model: \"sequential\"\n",
      "_________________________________________________________________\n",
      " Layer (type)                Output Shape              Param #   \n",
      "=================================================================\n",
      " flatten (Flatten)           (None, 5)                 0         \n",
      "                                                                 \n",
      " dense (Dense)               (None, 20)                120       \n",
      "                                                                 \n",
      " dense_1 (Dense)             (None, 20)                420       \n",
      "                                                                 \n",
      " dense_2 (Dense)             (None, 20)                420       \n",
      "                                                                 \n",
      " dense_3 (Dense)             (None, 1)                 21        \n",
      "                                                                 \n",
      "=================================================================\n",
      "Total params: 981\n",
      "Trainable params: 981\n",
      "Non-trainable params: 0\n",
      "_________________________________________________________________\n"
     ]
    }
   ],
   "source": [
    "tf.random.set_seed(123)\n",
    "model1 = keras.Sequential([\n",
    "    keras.layers.Flatten(input_shape=(X_train.shape[1],)), #the input layer\n",
    "    keras.layers.Dense(20,activation='sigmoid'), #hidden layer with 20 neurons and sigmoid activation function\n",
    "    keras.layers.Dense(20,activation='sigmoid'),\n",
    "    keras.layers.Dense(20,activation='sigmoid'),\n",
    "    keras.layers.Dense(1,activation='exponential') \n",
    "])\n",
    "\n",
    "model1.compile(optimizer = 'adam',loss = 'mse')\n",
    "model1.summary()"
   ]
  },
  {
   "cell_type": "code",
   "execution_count": 11,
   "id": "c5004385",
   "metadata": {},
   "outputs": [
    {
     "name": "stdout",
     "output_type": "stream",
     "text": [
      "Epoch 1/50\n"
     ]
    },
    {
     "name": "stderr",
     "output_type": "stream",
     "text": [
      "2023-07-10 18:09:49.223100: W tensorflow/tsl/platform/profile_utils/cpu_utils.cc:128] Failed to get CPU frequency: 0 Hz\n"
     ]
    },
    {
     "name": "stdout",
     "output_type": "stream",
     "text": [
      "352/352 [==============================] - 2s 5ms/step - loss: 314.9025 - val_loss: 26.2472\n",
      "Epoch 2/50\n",
      "352/352 [==============================] - 2s 5ms/step - loss: 19.8592 - val_loss: 17.2863\n",
      "Epoch 3/50\n",
      "352/352 [==============================] - 2s 5ms/step - loss: 16.7734 - val_loss: 15.7813\n",
      "Epoch 4/50\n",
      "352/352 [==============================] - 2s 5ms/step - loss: 15.7969 - val_loss: 15.2390\n",
      "Epoch 5/50\n",
      "352/352 [==============================] - 2s 5ms/step - loss: 15.0171 - val_loss: 13.6379\n",
      "Epoch 6/50\n",
      "352/352 [==============================] - 2s 5ms/step - loss: 14.0644 - val_loss: 12.7178\n",
      "Epoch 7/50\n",
      "352/352 [==============================] - 2s 5ms/step - loss: 13.0365 - val_loss: 11.6185\n",
      "Epoch 8/50\n",
      "352/352 [==============================] - 2s 5ms/step - loss: 11.5924 - val_loss: 11.9345\n",
      "Epoch 9/50\n",
      "352/352 [==============================] - 2s 5ms/step - loss: 10.6829 - val_loss: 9.2320\n",
      "Epoch 10/50\n",
      "352/352 [==============================] - 2s 5ms/step - loss: 8.5588 - val_loss: 7.9777\n",
      "Epoch 11/50\n",
      "352/352 [==============================] - 2s 5ms/step - loss: 6.9464 - val_loss: 7.3030\n",
      "Epoch 12/50\n",
      "352/352 [==============================] - 2s 5ms/step - loss: 5.8623 - val_loss: 5.6174\n",
      "Epoch 13/50\n",
      "352/352 [==============================] - 2s 5ms/step - loss: 5.1929 - val_loss: 4.8552\n",
      "Epoch 14/50\n",
      "352/352 [==============================] - 2s 5ms/step - loss: 4.6978 - val_loss: 4.1506\n",
      "Epoch 15/50\n",
      "352/352 [==============================] - 2s 5ms/step - loss: 4.6141 - val_loss: 4.0855\n",
      "Epoch 16/50\n",
      "352/352 [==============================] - 2s 5ms/step - loss: 4.2867 - val_loss: 4.9885\n",
      "Epoch 17/50\n",
      "352/352 [==============================] - 2s 5ms/step - loss: 3.9981 - val_loss: 3.6765\n",
      "Epoch 18/50\n",
      "352/352 [==============================] - 2s 5ms/step - loss: 3.7874 - val_loss: 3.4036\n",
      "Epoch 19/50\n",
      "352/352 [==============================] - 2s 5ms/step - loss: 3.6642 - val_loss: 3.3759\n",
      "Epoch 20/50\n",
      "352/352 [==============================] - 2s 5ms/step - loss: 3.4661 - val_loss: 3.2234\n",
      "Epoch 21/50\n",
      "352/352 [==============================] - 2s 5ms/step - loss: 3.4080 - val_loss: 3.3032\n",
      "Epoch 22/50\n",
      "352/352 [==============================] - 2s 5ms/step - loss: 3.0642 - val_loss: 5.0136\n",
      "Epoch 23/50\n",
      "352/352 [==============================] - 2s 5ms/step - loss: 3.0911 - val_loss: 2.6801\n",
      "Epoch 24/50\n",
      "352/352 [==============================] - 2s 5ms/step - loss: 2.9322 - val_loss: 2.9137\n",
      "Epoch 25/50\n",
      "352/352 [==============================] - 2s 6ms/step - loss: 2.7936 - val_loss: 2.5727\n",
      "Epoch 26/50\n",
      "352/352 [==============================] - 2s 6ms/step - loss: 2.8246 - val_loss: 3.7098\n",
      "Epoch 27/50\n",
      "352/352 [==============================] - 2s 6ms/step - loss: 2.7898 - val_loss: 2.5675\n",
      "Epoch 28/50\n",
      "352/352 [==============================] - 2s 5ms/step - loss: 2.7112 - val_loss: 3.2187\n",
      "Epoch 29/50\n",
      "352/352 [==============================] - 2s 5ms/step - loss: 2.5081 - val_loss: 2.6122\n",
      "Epoch 30/50\n",
      "352/352 [==============================] - 2s 5ms/step - loss: 2.4301 - val_loss: 2.0923\n",
      "Epoch 31/50\n",
      "352/352 [==============================] - 2s 5ms/step - loss: 2.5185 - val_loss: 2.3459\n",
      "Epoch 32/50\n",
      "352/352 [==============================] - 2s 5ms/step - loss: 2.2374 - val_loss: 2.0323\n",
      "Epoch 33/50\n",
      "352/352 [==============================] - 2s 5ms/step - loss: 2.0794 - val_loss: 2.3638\n",
      "Epoch 34/50\n",
      "352/352 [==============================] - 2s 5ms/step - loss: 2.2438 - val_loss: 3.2997\n",
      "Epoch 35/50\n",
      "352/352 [==============================] - 2s 5ms/step - loss: 2.1480 - val_loss: 1.8250\n",
      "Epoch 36/50\n",
      "352/352 [==============================] - 2s 5ms/step - loss: 2.0772 - val_loss: 1.8461\n",
      "Epoch 37/50\n",
      "352/352 [==============================] - 2s 5ms/step - loss: 1.9894 - val_loss: 1.7452\n",
      "Epoch 38/50\n",
      "352/352 [==============================] - 2s 5ms/step - loss: 1.9780 - val_loss: 2.1112\n",
      "Epoch 39/50\n",
      "352/352 [==============================] - 2s 5ms/step - loss: 2.0323 - val_loss: 1.8937\n",
      "Epoch 40/50\n",
      "352/352 [==============================] - 2s 5ms/step - loss: 2.0276 - val_loss: 3.1375\n",
      "Epoch 41/50\n",
      "352/352 [==============================] - 2s 5ms/step - loss: 1.8534 - val_loss: 1.6521\n",
      "Epoch 42/50\n",
      "352/352 [==============================] - 2s 5ms/step - loss: 1.8820 - val_loss: 1.6201\n",
      "Epoch 43/50\n",
      "352/352 [==============================] - 2s 5ms/step - loss: 1.8571 - val_loss: 1.7502\n",
      "Epoch 44/50\n",
      "352/352 [==============================] - 2s 5ms/step - loss: 1.7719 - val_loss: 1.8601\n",
      "Epoch 45/50\n",
      "352/352 [==============================] - 2s 5ms/step - loss: 1.8612 - val_loss: 1.9376\n",
      "Epoch 46/50\n",
      "352/352 [==============================] - 2s 5ms/step - loss: 1.9006 - val_loss: 1.6502\n",
      "Epoch 47/50\n",
      "352/352 [==============================] - 2s 5ms/step - loss: 1.8161 - val_loss: 1.4913\n",
      "Epoch 48/50\n",
      "352/352 [==============================] - 2s 5ms/step - loss: 1.7294 - val_loss: 1.8578\n",
      "Epoch 49/50\n",
      "352/352 [==============================] - 2s 5ms/step - loss: 1.7275 - val_loss: 1.6909\n",
      "Epoch 50/50\n",
      "352/352 [==============================] - 2s 5ms/step - loss: 1.7858 - val_loss: 2.1995\n"
     ]
    }
   ],
   "source": [
    "history1 = model1.fit(X_train,y_train,epochs=50,validation_data=(X_val,y_val))"
   ]
  },
  {
   "cell_type": "code",
   "execution_count": 12,
   "id": "7125868c",
   "metadata": {},
   "outputs": [
    {
     "data": {
      "image/png": "[encoded data removed]",
      "text/plain": [
       "<Figure size 640x480 with 1 Axes>"
      ]
     },
     "metadata": {},
     "output_type": "display_data"
    }
   ],
   "source": [
    "plt.plot(history1.history['loss'])\n",
    "plt.plot(history1.history['val_loss'])\n",
    "plt.xlabel(\"Epochs\")\n",
    "plt.ylabel(\"Training Loss\")\n",
    "plt.title(\"Model 1: Loss vs Epochs\")\n",
    "plt.legend(['training set','validation set'])\n",
    "plt.show()"
   ]
  },
  {
   "cell_type": "code",
   "execution_count": 13,
   "id": "49620adb",
   "metadata": {},
   "outputs": [
    {
     "name": "stdout",
     "output_type": "stream",
     "text": [
      "157/157 [==============================] - 0s 3ms/step - loss: 2.3605\n"
     ]
    },
    {
     "data": {
      "text/plain": [
       "2.360522747039795"
      ]
     },
     "execution_count": 13,
     "metadata": {},
     "output_type": "execute_result"
    }
   ],
   "source": [
    "model1.evaluate(X_test,y_test)"
   ]
  },
  {
   "cell_type": "markdown",
   "id": "24ad78c3",
   "metadata": {},
   "source": [
    "**It appears that the machine has fit the model quite well!**"
   ]
  },
  {
   "cell_type": "code",
   "execution_count": 14,
   "id": "f04cad64",
   "metadata": {},
   "outputs": [
    {
     "name": "stdout",
     "output_type": "stream",
     "text": [
      "157/157 [==============================] - 0s 2ms/step\n"
     ]
    }
   ],
   "source": [
    "preds1 = model1.predict(X_test)"
   ]
  },
  {
   "cell_type": "code",
   "execution_count": 15,
   "id": "a9bec1a6",
   "metadata": {},
   "outputs": [
    {
     "name": "stdout",
     "output_type": "stream",
     "text": [
      "5000\n",
      "0\n"
     ]
    }
   ],
   "source": [
    "print(len(preds1))\n",
    "\n",
    "count = 0\n",
    "\n",
    "for i in range(5000):\n",
    "    \n",
    "    if preds1[i]<0:\n",
    "        count+=1\n",
    "print(count)"
   ]
  },
  {
   "cell_type": "code",
   "execution_count": 16,
   "id": "a5a080b2",
   "metadata": {},
   "outputs": [
    {
     "data": {
      "text/plain": [
       "736.8425396553943"
      ]
     },
     "execution_count": 16,
     "metadata": {},
     "output_type": "execute_result"
    }
   ],
   "source": [
    "mse = np.mean((preds1-y_test)**2)\n",
    "mse"
   ]
  },
  {
   "cell_type": "code",
   "execution_count": 17,
   "id": "c859c3d5",
   "metadata": {},
   "outputs": [
    {
     "data": {
      "text/plain": [
       "27.14484370290966"
      ]
     },
     "execution_count": 17,
     "metadata": {},
     "output_type": "execute_result"
    }
   ],
   "source": [
    "rmse = np.sqrt(mse)\n",
    "rmse"
   ]
  },
  {
   "cell_type": "code",
   "execution_count": 18,
   "id": "b73dbd19",
   "metadata": {},
   "outputs": [
    {
     "name": "stdout",
     "output_type": "stream",
     "text": [
      "8.83593284953357\n",
      "1/1 [==============================] - 0s 59ms/step\n"
     ]
    },
    {
     "data": {
      "text/plain": [
       "array([[8.424719]], dtype=float32)"
      ]
     },
     "execution_count": 18,
     "metadata": {},
     "output_type": "execute_result"
    }
   ],
   "source": [
    "test_val = np.array([[ df.iloc[0,0],df.iloc[0,1],df.iloc[0,2],df.iloc[0,3],df.iloc[0,4] ]])\n",
    "print(get_bs_call(df.iloc[0,0],df.iloc[0,1],df.iloc[0,2],df.iloc[0,3],df.iloc[0,4]))\n",
    "model1.predict(test_val)"
   ]
  },
  {
   "cell_type": "code",
   "execution_count": 19,
   "id": "a5af2ead",
   "metadata": {},
   "outputs": [
    {
     "name": "stdout",
     "output_type": "stream",
     "text": [
      "1/1 [==============================] - 0s 11ms/step\n",
      "[[61.458107]]\n",
      "62.44861451679897\n"
     ]
    }
   ],
   "source": [
    "tv = np.array([[ X_test.iloc[0,0], X_test.iloc[0,1], X_test.iloc[0,2], X_test.iloc[0,3], X_test.iloc[0,4] ]])\n",
    "print(model1.predict(tv))\n",
    "print(get_bs_call(X_test.iloc[0,0], X_test.iloc[0,1], X_test.iloc[0,2], X_test.iloc[0,3], X_test.iloc[0,4]))"
   ]
  },
  {
   "cell_type": "code",
   "execution_count": 20,
   "id": "06a13979",
   "metadata": {},
   "outputs": [
    {
     "data": {
      "text/html": [
       "<div>\n",
       "<style scoped>\n",
       "    .dataframe tbody tr th:only-of-type {\n",
       "        vertical-align: middle;\n",
       "    }\n",
       "\n",
       "    .dataframe tbody tr th {\n",
       "        vertical-align: top;\n",
       "    }\n",
       "\n",
       "    .dataframe thead th {\n",
       "        text-align: right;\n",
       "    }\n",
       "</style>\n",
       "<table border=\"1\" class=\"dataframe\">\n",
       "  <thead>\n",
       "    <tr style=\"text-align: right;\">\n",
       "      <th></th>\n",
       "      <th>Unnamed: 0</th>\n",
       "      <th>Contract Name</th>\n",
       "      <th>Last Trade Date</th>\n",
       "      <th>Strike</th>\n",
       "      <th>Last Price</th>\n",
       "      <th>Bid</th>\n",
       "      <th>Ask</th>\n",
       "      <th>Change</th>\n",
       "      <th>% Change</th>\n",
       "      <th>Volume</th>\n",
       "      <th>Open Interest</th>\n",
       "      <th>Implied Volatility</th>\n",
       "      <th>Expiration</th>\n",
       "      <th>Spot Price</th>\n",
       "    </tr>\n",
       "  </thead>\n",
       "  <tbody>\n",
       "    <tr>\n",
       "      <th>0</th>\n",
       "      <td>107</td>\n",
       "      <td>SPXW230714C04400000</td>\n",
       "      <td>2023-07-10 1:45PM EDT</td>\n",
       "      <td>4400.0</td>\n",
       "      <td>29.70</td>\n",
       "      <td>29.5</td>\n",
       "      <td>29.7</td>\n",
       "      <td>-0.80</td>\n",
       "      <td>-2.62%</td>\n",
       "      <td>1469</td>\n",
       "      <td>3110</td>\n",
       "      <td>12.99%</td>\n",
       "      <td>0.015873</td>\n",
       "      <td>4398.950195</td>\n",
       "    </tr>\n",
       "    <tr>\n",
       "      <th>1</th>\n",
       "      <td>108</td>\n",
       "      <td>SPXW230714C04405000</td>\n",
       "      <td>2023-07-10 1:35PM EDT</td>\n",
       "      <td>4405.0</td>\n",
       "      <td>26.50</td>\n",
       "      <td>26.5</td>\n",
       "      <td>26.8</td>\n",
       "      <td>-1.60</td>\n",
       "      <td>-5.69%</td>\n",
       "      <td>456</td>\n",
       "      <td>321</td>\n",
       "      <td>12.84%</td>\n",
       "      <td>0.015873</td>\n",
       "      <td>4398.950195</td>\n",
       "    </tr>\n",
       "    <tr>\n",
       "      <th>2</th>\n",
       "      <td>109</td>\n",
       "      <td>SPXW230714C04410000</td>\n",
       "      <td>2023-07-10 1:44PM EDT</td>\n",
       "      <td>4410.0</td>\n",
       "      <td>23.80</td>\n",
       "      <td>23.7</td>\n",
       "      <td>23.9</td>\n",
       "      <td>-1.20</td>\n",
       "      <td>-4.80%</td>\n",
       "      <td>1118</td>\n",
       "      <td>441</td>\n",
       "      <td>12.61%</td>\n",
       "      <td>0.015873</td>\n",
       "      <td>4398.950195</td>\n",
       "    </tr>\n",
       "    <tr>\n",
       "      <th>3</th>\n",
       "      <td>110</td>\n",
       "      <td>SPXW230714C04415000</td>\n",
       "      <td>2023-07-10 1:30PM EDT</td>\n",
       "      <td>4415.0</td>\n",
       "      <td>21.70</td>\n",
       "      <td>21.7</td>\n",
       "      <td>21.9</td>\n",
       "      <td>-1.05</td>\n",
       "      <td>-4.62%</td>\n",
       "      <td>260</td>\n",
       "      <td>1087</td>\n",
       "      <td>12.75%</td>\n",
       "      <td>0.015873</td>\n",
       "      <td>4398.950195</td>\n",
       "    </tr>\n",
       "    <tr>\n",
       "      <th>4</th>\n",
       "      <td>111</td>\n",
       "      <td>SPXW230714C04420000</td>\n",
       "      <td>2023-07-10 1:41PM EDT</td>\n",
       "      <td>4420.0</td>\n",
       "      <td>18.72</td>\n",
       "      <td>19.0</td>\n",
       "      <td>19.2</td>\n",
       "      <td>-1.64</td>\n",
       "      <td>-8.06%</td>\n",
       "      <td>496</td>\n",
       "      <td>747</td>\n",
       "      <td>12.47%</td>\n",
       "      <td>0.015873</td>\n",
       "      <td>4398.950195</td>\n",
       "    </tr>\n",
       "  </tbody>\n",
       "</table>\n",
       "</div>"
      ],
      "text/plain": [
       "   Unnamed: 0        Contract Name        Last Trade Date  Strike  Last Price   \n",
       "0         107  SPXW230714C04400000  2023-07-10 1:45PM EDT  4400.0       29.70  \\\n",
       "1         108  SPXW230714C04405000  2023-07-10 1:35PM EDT  4405.0       26.50   \n",
       "2         109  SPXW230714C04410000  2023-07-10 1:44PM EDT  4410.0       23.80   \n",
       "3         110  SPXW230714C04415000  2023-07-10 1:30PM EDT  4415.0       21.70   \n",
       "4         111  SPXW230714C04420000  2023-07-10 1:41PM EDT  4420.0       18.72   \n",
       "\n",
       "    Bid   Ask  Change % Change Volume  Open Interest Implied Volatility   \n",
       "0  29.5  29.7   -0.80   -2.62%   1469           3110             12.99%  \\\n",
       "1  26.5  26.8   -1.60   -5.69%    456            321             12.84%   \n",
       "2  23.7  23.9   -1.20   -4.80%   1118            441             12.61%   \n",
       "3  21.7  21.9   -1.05   -4.62%    260           1087             12.75%   \n",
       "4  19.0  19.2   -1.64   -8.06%    496            747             12.47%   \n",
       "\n",
       "   Expiration   Spot Price  \n",
       "0    0.015873  4398.950195  \n",
       "1    0.015873  4398.950195  \n",
       "2    0.015873  4398.950195  \n",
       "3    0.015873  4398.950195  \n",
       "4    0.015873  4398.950195  "
      ]
     },
     "execution_count": 20,
     "metadata": {},
     "output_type": "execute_result"
    }
   ],
   "source": [
    "#load market data\n",
    "\n",
    "market_df = pd.read_csv(\"OTM_Calls.csv\")\n",
    "market_df.head()"
   ]
  },
  {
   "cell_type": "code",
   "execution_count": 21,
   "id": "9b36dd96",
   "metadata": {},
   "outputs": [
    {
     "data": {
      "text/html": [
       "<div>\n",
       "<style scoped>\n",
       "    .dataframe tbody tr th:only-of-type {\n",
       "        vertical-align: middle;\n",
       "    }\n",
       "\n",
       "    .dataframe tbody tr th {\n",
       "        vertical-align: top;\n",
       "    }\n",
       "\n",
       "    .dataframe thead th {\n",
       "        text-align: right;\n",
       "    }\n",
       "</style>\n",
       "<table border=\"1\" class=\"dataframe\">\n",
       "  <thead>\n",
       "    <tr style=\"text-align: right;\">\n",
       "      <th></th>\n",
       "      <th>Spot Price</th>\n",
       "      <th>Strike</th>\n",
       "      <th>Expiration</th>\n",
       "      <th>Last Price</th>\n",
       "    </tr>\n",
       "  </thead>\n",
       "  <tbody>\n",
       "    <tr>\n",
       "      <th>0</th>\n",
       "      <td>4398.950195</td>\n",
       "      <td>4400.0</td>\n",
       "      <td>0.015873</td>\n",
       "      <td>29.70</td>\n",
       "    </tr>\n",
       "    <tr>\n",
       "      <th>1</th>\n",
       "      <td>4398.950195</td>\n",
       "      <td>4405.0</td>\n",
       "      <td>0.015873</td>\n",
       "      <td>26.50</td>\n",
       "    </tr>\n",
       "    <tr>\n",
       "      <th>2</th>\n",
       "      <td>4398.950195</td>\n",
       "      <td>4410.0</td>\n",
       "      <td>0.015873</td>\n",
       "      <td>23.80</td>\n",
       "    </tr>\n",
       "    <tr>\n",
       "      <th>3</th>\n",
       "      <td>4398.950195</td>\n",
       "      <td>4415.0</td>\n",
       "      <td>0.015873</td>\n",
       "      <td>21.70</td>\n",
       "    </tr>\n",
       "    <tr>\n",
       "      <th>4</th>\n",
       "      <td>4398.950195</td>\n",
       "      <td>4420.0</td>\n",
       "      <td>0.015873</td>\n",
       "      <td>18.72</td>\n",
       "    </tr>\n",
       "  </tbody>\n",
       "</table>\n",
       "</div>"
      ],
      "text/plain": [
       "    Spot Price  Strike  Expiration  Last Price\n",
       "0  4398.950195  4400.0    0.015873       29.70\n",
       "1  4398.950195  4405.0    0.015873       26.50\n",
       "2  4398.950195  4410.0    0.015873       23.80\n",
       "3  4398.950195  4415.0    0.015873       21.70\n",
       "4  4398.950195  4420.0    0.015873       18.72"
      ]
     },
     "execution_count": 21,
     "metadata": {},
     "output_type": "execute_result"
    }
   ],
   "source": [
    "m_df = market_df[['Spot Price','Strike', 'Expiration','Last Price']]\n",
    "m_df.head()"
   ]
  },
  {
   "cell_type": "code",
   "execution_count": 25,
   "id": "1d10ee11",
   "metadata": {},
   "outputs": [],
   "source": [
    "m_df.loc[:][('Interest Rate')] = 0.0525"
   ]
  },
  {
   "cell_type": "code",
   "execution_count": 26,
   "id": "8656da23",
   "metadata": {},
   "outputs": [
    {
     "data": {
      "text/html": [
       "<div>\n",
       "<style scoped>\n",
       "    .dataframe tbody tr th:only-of-type {\n",
       "        vertical-align: middle;\n",
       "    }\n",
       "\n",
       "    .dataframe tbody tr th {\n",
       "        vertical-align: top;\n",
       "    }\n",
       "\n",
       "    .dataframe thead th {\n",
       "        text-align: right;\n",
       "    }\n",
       "</style>\n",
       "<table border=\"1\" class=\"dataframe\">\n",
       "  <thead>\n",
       "    <tr style=\"text-align: right;\">\n",
       "      <th></th>\n",
       "      <th>Spot Price</th>\n",
       "      <th>Strike</th>\n",
       "      <th>Expiration</th>\n",
       "      <th>Last Price</th>\n",
       "      <th>Interest Rate</th>\n",
       "    </tr>\n",
       "  </thead>\n",
       "  <tbody>\n",
       "    <tr>\n",
       "      <th>0</th>\n",
       "      <td>4398.950195</td>\n",
       "      <td>4400.0</td>\n",
       "      <td>0.015873</td>\n",
       "      <td>29.70</td>\n",
       "      <td>0.0525</td>\n",
       "    </tr>\n",
       "    <tr>\n",
       "      <th>1</th>\n",
       "      <td>4398.950195</td>\n",
       "      <td>4405.0</td>\n",
       "      <td>0.015873</td>\n",
       "      <td>26.50</td>\n",
       "      <td>0.0525</td>\n",
       "    </tr>\n",
       "    <tr>\n",
       "      <th>2</th>\n",
       "      <td>4398.950195</td>\n",
       "      <td>4410.0</td>\n",
       "      <td>0.015873</td>\n",
       "      <td>23.80</td>\n",
       "      <td>0.0525</td>\n",
       "    </tr>\n",
       "    <tr>\n",
       "      <th>3</th>\n",
       "      <td>4398.950195</td>\n",
       "      <td>4415.0</td>\n",
       "      <td>0.015873</td>\n",
       "      <td>21.70</td>\n",
       "      <td>0.0525</td>\n",
       "    </tr>\n",
       "    <tr>\n",
       "      <th>4</th>\n",
       "      <td>4398.950195</td>\n",
       "      <td>4420.0</td>\n",
       "      <td>0.015873</td>\n",
       "      <td>18.72</td>\n",
       "      <td>0.0525</td>\n",
       "    </tr>\n",
       "  </tbody>\n",
       "</table>\n",
       "</div>"
      ],
      "text/plain": [
       "    Spot Price  Strike  Expiration  Last Price  Interest Rate\n",
       "0  4398.950195  4400.0    0.015873       29.70         0.0525\n",
       "1  4398.950195  4405.0    0.015873       26.50         0.0525\n",
       "2  4398.950195  4410.0    0.015873       23.80         0.0525\n",
       "3  4398.950195  4415.0    0.015873       21.70         0.0525\n",
       "4  4398.950195  4420.0    0.015873       18.72         0.0525"
      ]
     },
     "execution_count": 26,
     "metadata": {},
     "output_type": "execute_result"
    }
   ],
   "source": [
    "m_df.head()"
   ]
  },
  {
   "cell_type": "code",
   "execution_count": 27,
   "id": "bd3c0e68",
   "metadata": {},
   "outputs": [],
   "source": [
    "from scipy.optimize import minimize"
   ]
  },
  {
   "cell_type": "code",
   "execution_count": 126,
   "id": "6c0b8cf3",
   "metadata": {},
   "outputs": [],
   "source": [
    "def error_function(m_df,sigma):\n",
    "    \n",
    "    \n",
    "    data = {'Sigmas': [sigma] * len(m_df)}\n",
    "    df1 = pd.DataFrame(data)\n",
    "    \n",
    "    df2 = pd.concat([df1, m_df], axis=1)\n",
    "    \n",
    "    xtest = df2.drop('Last Price',axis = 1)\n",
    "    xtest = np.asarray(xtest).astype('float32')\n",
    "    ytest = df2['Last Price']\n",
    "    \n",
    "    #ytest = np.asarray(ytest)\n",
    "    \n",
    "    preds = model1.predict(xtest)\n",
    "    \n",
    "    errors = (preds.flatten() - ytest.values)**2\n",
    "    \n",
    "    return np.mean(errors)    \n",
    "    \n",
    "    "
   ]
  },
  {
   "cell_type": "code",
   "execution_count": 127,
   "id": "b4864389",
   "metadata": {},
   "outputs": [
    {
     "name": "stdout",
     "output_type": "stream",
     "text": [
      "26/26 [==============================] - 0s 2ms/step\n"
     ]
    }
   ],
   "source": [
    "error = error_function(m_df,sigma)"
   ]
  },
  {
   "cell_type": "code",
   "execution_count": 128,
   "id": "b7b0e7e6",
   "metadata": {},
   "outputs": [
    {
     "data": {
      "text/plain": [
       "9482.820335749611"
      ]
     },
     "execution_count": 128,
     "metadata": {},
     "output_type": "execute_result"
    }
   ],
   "source": [
    "error"
   ]
  },
  {
   "cell_type": "code",
   "execution_count": 129,
   "id": "8a03c848",
   "metadata": {},
   "outputs": [
    {
     "name": "stdout",
     "output_type": "stream",
     "text": [
      "26/26 [==============================] - 0s 2ms/step\n",
      "9482.820335749611 0.2\n",
      "26/26 [==============================] - 0s 2ms/step\n",
      "9482.819766007953 0.21000000000000002\n",
      "26/26 [==============================] - 0s 2ms/step\n",
      "9482.819177527384 0.22000000000000003\n",
      "26/26 [==============================] - 0s 2ms/step\n",
      "9482.818585583367 0.23000000000000004\n",
      "26/26 [==============================] - 0s 2ms/step\n",
      "9482.81797163489 0.24000000000000005\n",
      "26/26 [==============================] - 0s 2ms/step\n",
      "9482.81740654549 0.25000000000000006\n",
      "26/26 [==============================] - 0s 2ms/step\n",
      "9482.817005532237 0.26000000000000006\n",
      "26/26 [==============================] - 0s 2ms/step\n",
      "9482.816383728772 0.2700000000000001\n",
      "26/26 [==============================] - 0s 2ms/step\n",
      "9482.815801007953 0.2800000000000001\n",
      "26/26 [==============================] - 0s 2ms/step\n",
      "9482.815249852369 0.2900000000000001\n",
      "26/26 [==============================] - 0s 2ms/step\n",
      "9482.81467107701 0.3000000000000001\n",
      "26/26 [==============================] - 0s 2ms/step\n",
      "9482.814040450858 0.3100000000000001\n",
      "26/26 [==============================] - 0s 2ms/step\n",
      "9482.81346669603 0.3200000000000001\n",
      "26/26 [==============================] - 0s 2ms/step\n",
      "9482.812889770481 0.3300000000000001\n",
      "26/26 [==============================] - 0s 2ms/step\n",
      "9482.812298000164 0.34000000000000014\n",
      "26/26 [==============================] - 0s 2ms/step\n",
      "9482.811703589221 0.35000000000000014\n",
      "26/26 [==============================] - 0s 2ms/step\n",
      "9482.811160684354 0.36000000000000015\n",
      "26/26 [==============================] - 0s 2ms/step\n",
      "9482.810541041872 0.37000000000000016\n",
      "26/26 [==============================] - 0s 2ms/step\n",
      "9482.809973492824 0.38000000000000017\n",
      "26/26 [==============================] - 0s 2ms/step\n",
      "9482.80941519486 0.3900000000000002\n",
      "26/26 [==============================] - 0s 2ms/step\n",
      "9482.808973679448 0.4000000000000002\n",
      "26/26 [==============================] - 0s 2ms/step\n",
      "9482.808425630767 0.4100000000000002\n",
      "26/26 [==============================] - 0s 2ms/step\n",
      "9482.807816900333 0.4200000000000002\n",
      "26/26 [==============================] - 0s 2ms/step\n",
      "9482.807241284467 0.4300000000000002\n",
      "26/26 [==============================] - 0s 2ms/step\n",
      "9482.806641833467 0.4400000000000002\n",
      "26/26 [==============================] - 0s 2ms/step\n",
      "9482.806106307522 0.45000000000000023\n",
      "26/26 [==============================] - 0s 2ms/step\n",
      "9482.80550316269 0.46000000000000024\n",
      "26/26 [==============================] - 0s 2ms/step\n",
      "9482.804907974883 0.47000000000000025\n",
      "26/26 [==============================] - 0s 2ms/step\n",
      "9482.804346707073 0.48000000000000026\n",
      "26/26 [==============================] - 0s 2ms/step\n",
      "9482.803770465613 0.49000000000000027\n",
      "26/26 [==============================] - 0s 2ms/step\n",
      "9482.803194612354 0.5000000000000002\n",
      "26/26 [==============================] - 0s 2ms/step\n",
      "9482.802595176827 0.5100000000000002\n",
      "26/26 [==============================] - 0s 2ms/step\n",
      "9482.80199917174 0.5200000000000002\n",
      "26/26 [==============================] - 0s 2ms/step\n",
      "9482.801447554544 0.5300000000000002\n",
      "26/26 [==============================] - 0s 2ms/step\n",
      "9482.800992523147 0.5400000000000003\n",
      "26/26 [==============================] - 0s 2ms/step\n",
      "9482.800419788622 0.5500000000000003\n",
      "26/26 [==============================] - 0s 2ms/step\n",
      "9482.799849904039 0.5600000000000003\n",
      "26/26 [==============================] - 0s 2ms/step\n",
      "9482.799293196116 0.5700000000000003\n",
      "26/26 [==============================] - 0s 2ms/step\n",
      "9482.798719314987 0.5800000000000003\n",
      "26/26 [==============================] - 0s 2ms/step\n",
      "9482.798141245834 0.5900000000000003\n",
      "26/26 [==============================] - 0s 2ms/step\n",
      "9482.797564024324 0.6000000000000003\n",
      "Optimal Parameter Value: 0.6000000000000003\n"
     ]
    }
   ],
   "source": [
    "min_sigma = 0.2\n",
    "max_sigma = 0.6\n",
    "step_size = 0.01\n",
    "\n",
    "best_sigma = None\n",
    "best_error = np.inf\n",
    "\n",
    "for sigma in np.arange(min_sigma, max_sigma + step_size, step_size):\n",
    "    error = error_function(m_df,sigma)\n",
    "    if error < best_error:\n",
    "        print(error,sigma)\n",
    "        best_error = error\n",
    "        best_sigma = sigma\n",
    "\n",
    "print(\"Optimal Parameter Value:\", best_sigma)"
   ]
  },
  {
   "cell_type": "code",
   "execution_count": 34,
   "id": "cb6d3282",
   "metadata": {},
   "outputs": [
    {
     "data": {
      "text/plain": [
       "(11250, 5)"
      ]
     },
     "execution_count": 34,
     "metadata": {},
     "output_type": "execute_result"
    }
   ],
   "source": [
    "X_train.shape"
   ]
  },
  {
   "cell_type": "code",
   "execution_count": 44,
   "id": "1cbad0fc",
   "metadata": {},
   "outputs": [],
   "source": [
    "# sigma = 5\n",
    "# m_df = m_df.assign(Sigmas=sigma)\n",
    "# m_df.head()\n",
    "# m_df = m_df.drop('Sigmas',axis=1)\n",
    "# # xtest = m_df.drop('Last Price',axis = 1)\n",
    "# # xtest.head()"
   ]
  },
  {
   "cell_type": "code",
   "execution_count": null,
   "id": "01a56da0",
   "metadata": {},
   "outputs": [],
   "source": [
    "# def myfun2(m_df,sigma):\n",
    "    \n",
    "#     for i in range(len(m_df)):\n",
    "        \n",
    "#         m_df.loc[i,'Sigmas'] = sigma\n",
    "#         xtest = m_df.drop('Last Price',axis = 1)\n",
    "#         ytest = \n",
    "        "
   ]
  },
  {
   "cell_type": "code",
   "execution_count": 107,
   "id": "e25eafcf",
   "metadata": {},
   "outputs": [
    {
     "name": "stdout",
     "output_type": "stream",
     "text": [
      "26/26 [==============================] - 0s 2ms/step\n",
      "26/26 [==============================] - 0s 2ms/step\n"
     ]
    },
    {
     "data": {
      "text/plain": [
       "array([0.23])"
      ]
     },
     "execution_count": 107,
     "metadata": {},
     "output_type": "execute_result"
    }
   ],
   "source": [
    "initial_sigma = 0.23\n",
    "result = minimize(lambda sigma: np.sum(error_function(m_df,sigma) ** 2), initial_sigma, options={'maxiter': 10000})\n",
    "result.x"
   ]
  },
  {
   "cell_type": "code",
   "execution_count": 63,
   "id": "07d702e1",
   "metadata": {},
   "outputs": [],
   "source": [
    "def get_vega(S,K,mu,sigma,T):\n",
    "    \n",
    "    d1 = (np.log(S/K) + (mu + 0.5*sigma**2)*T)/(sigma*T)\n",
    "    v = S*np.sqrt(T)*norm.cdf(d1)\n",
    "    return v"
   ]
  },
  {
   "cell_type": "code",
   "execution_count": 76,
   "id": "69604e1b",
   "metadata": {},
   "outputs": [],
   "source": [
    "def find_implied_volatility(S, K, r, T, option_price, tolerance, max_iterations):\n",
    "    volatility = 0.5  # Initial guess for implied volatility\n",
    "\n",
    "    for _ in range(max_iterations):\n",
    "        option_price_estimate = get_bs_call(S, K, r,volatility, T)\n",
    "        vega = get_vega(S, K, r, volatility, T)\n",
    "\n",
    "        diff = option_price_estimate - option_price\n",
    "\n",
    "        if abs(diff) < tolerance:\n",
    "            return volatility\n",
    "\n",
    "        volatility -= diff / vega\n",
    "    \n",
    "    return -1"
   ]
  },
  {
   "cell_type": "code",
   "execution_count": 65,
   "id": "439ce3b5",
   "metadata": {},
   "outputs": [
    {
     "data": {
      "text/html": [
       "<div>\n",
       "<style scoped>\n",
       "    .dataframe tbody tr th:only-of-type {\n",
       "        vertical-align: middle;\n",
       "    }\n",
       "\n",
       "    .dataframe tbody tr th {\n",
       "        vertical-align: top;\n",
       "    }\n",
       "\n",
       "    .dataframe thead th {\n",
       "        text-align: right;\n",
       "    }\n",
       "</style>\n",
       "<table border=\"1\" class=\"dataframe\">\n",
       "  <thead>\n",
       "    <tr style=\"text-align: right;\">\n",
       "      <th></th>\n",
       "      <th>Spot Price</th>\n",
       "      <th>Strike</th>\n",
       "      <th>Expiration</th>\n",
       "      <th>Last Price</th>\n",
       "      <th>Interest Rate</th>\n",
       "    </tr>\n",
       "  </thead>\n",
       "  <tbody>\n",
       "    <tr>\n",
       "      <th>0</th>\n",
       "      <td>4398.950195</td>\n",
       "      <td>4400.0</td>\n",
       "      <td>0.015873</td>\n",
       "      <td>29.70</td>\n",
       "      <td>0.0525</td>\n",
       "    </tr>\n",
       "    <tr>\n",
       "      <th>1</th>\n",
       "      <td>4398.950195</td>\n",
       "      <td>4405.0</td>\n",
       "      <td>0.015873</td>\n",
       "      <td>26.50</td>\n",
       "      <td>0.0525</td>\n",
       "    </tr>\n",
       "    <tr>\n",
       "      <th>2</th>\n",
       "      <td>4398.950195</td>\n",
       "      <td>4410.0</td>\n",
       "      <td>0.015873</td>\n",
       "      <td>23.80</td>\n",
       "      <td>0.0525</td>\n",
       "    </tr>\n",
       "    <tr>\n",
       "      <th>3</th>\n",
       "      <td>4398.950195</td>\n",
       "      <td>4415.0</td>\n",
       "      <td>0.015873</td>\n",
       "      <td>21.70</td>\n",
       "      <td>0.0525</td>\n",
       "    </tr>\n",
       "    <tr>\n",
       "      <th>4</th>\n",
       "      <td>4398.950195</td>\n",
       "      <td>4420.0</td>\n",
       "      <td>0.015873</td>\n",
       "      <td>18.72</td>\n",
       "      <td>0.0525</td>\n",
       "    </tr>\n",
       "    <tr>\n",
       "      <th>...</th>\n",
       "      <td>...</td>\n",
       "      <td>...</td>\n",
       "      <td>...</td>\n",
       "      <td>...</td>\n",
       "      <td>...</td>\n",
       "    </tr>\n",
       "    <tr>\n",
       "      <th>812</th>\n",
       "      <td>4398.950195</td>\n",
       "      <td>8400.0</td>\n",
       "      <td>2.099206</td>\n",
       "      <td>0.12</td>\n",
       "      <td>0.0525</td>\n",
       "    </tr>\n",
       "    <tr>\n",
       "      <th>813</th>\n",
       "      <td>4398.950195</td>\n",
       "      <td>8600.0</td>\n",
       "      <td>2.099206</td>\n",
       "      <td>0.20</td>\n",
       "      <td>0.0525</td>\n",
       "    </tr>\n",
       "    <tr>\n",
       "      <th>814</th>\n",
       "      <td>4398.950195</td>\n",
       "      <td>8800.0</td>\n",
       "      <td>2.099206</td>\n",
       "      <td>0.10</td>\n",
       "      <td>0.0525</td>\n",
       "    </tr>\n",
       "    <tr>\n",
       "      <th>815</th>\n",
       "      <td>4398.950195</td>\n",
       "      <td>9000.0</td>\n",
       "      <td>2.099206</td>\n",
       "      <td>0.10</td>\n",
       "      <td>0.0525</td>\n",
       "    </tr>\n",
       "    <tr>\n",
       "      <th>816</th>\n",
       "      <td>4398.950195</td>\n",
       "      <td>9200.0</td>\n",
       "      <td>2.099206</td>\n",
       "      <td>0.10</td>\n",
       "      <td>0.0525</td>\n",
       "    </tr>\n",
       "  </tbody>\n",
       "</table>\n",
       "<p>817 rows × 5 columns</p>\n",
       "</div>"
      ],
      "text/plain": [
       "      Spot Price  Strike  Expiration  Last Price  Interest Rate\n",
       "0    4398.950195  4400.0    0.015873       29.70         0.0525\n",
       "1    4398.950195  4405.0    0.015873       26.50         0.0525\n",
       "2    4398.950195  4410.0    0.015873       23.80         0.0525\n",
       "3    4398.950195  4415.0    0.015873       21.70         0.0525\n",
       "4    4398.950195  4420.0    0.015873       18.72         0.0525\n",
       "..           ...     ...         ...         ...            ...\n",
       "812  4398.950195  8400.0    2.099206        0.12         0.0525\n",
       "813  4398.950195  8600.0    2.099206        0.20         0.0525\n",
       "814  4398.950195  8800.0    2.099206        0.10         0.0525\n",
       "815  4398.950195  9000.0    2.099206        0.10         0.0525\n",
       "816  4398.950195  9200.0    2.099206        0.10         0.0525\n",
       "\n",
       "[817 rows x 5 columns]"
      ]
     },
     "execution_count": 65,
     "metadata": {},
     "output_type": "execute_result"
    }
   ],
   "source": [
    "m_df"
   ]
  },
  {
   "cell_type": "code",
   "execution_count": 79,
   "id": "c847fdcc",
   "metadata": {},
   "outputs": [
    {
     "name": "stderr",
     "output_type": "stream",
     "text": [
      "/var/folders/lw/7zkwp1j916l4xty0z4xy6mgh0000gn/T/ipykernel_45253/3404009167.py:13: RuntimeWarning: divide by zero encountered in double_scalars\n",
      "  volatility -= diff / vega\n",
      "/var/folders/lw/7zkwp1j916l4xty0z4xy6mgh0000gn/T/ipykernel_45253/2398144966.py:3: RuntimeWarning: invalid value encountered in double_scalars\n",
      "  d1 = (np.log(S/K) + (r+0.5*(sigma**2))*T)/(sigma*np.sqrt(T))\n",
      "/var/folders/lw/7zkwp1j916l4xty0z4xy6mgh0000gn/T/ipykernel_45253/2398144966.py:3: RuntimeWarning: overflow encountered in double_scalars\n",
      "  d1 = (np.log(S/K) + (r+0.5*(sigma**2))*T)/(sigma*np.sqrt(T))\n"
     ]
    }
   ],
   "source": [
    "ivs = []\n",
    "\n",
    "for i in range(len(m_df)):\n",
    "    \n",
    "    S = m_df.iloc[i,0]\n",
    "    K = m_df.iloc[i,1]\n",
    "    r = m_df.iloc[i,4]\n",
    "    T = m_df.iloc[1,2]\n",
    "    option_price = m_df.iloc[i,3]\n",
    "    \n",
    "    a = find_implied_volatility(S,K,r,T,option_price,tolerance=1e-2, max_iterations=350)\n",
    "    ivs.append(a)"
   ]
  },
  {
   "cell_type": "code",
   "execution_count": 82,
   "id": "216cef57",
   "metadata": {},
   "outputs": [
    {
     "name": "stdout",
     "output_type": "stream",
     "text": [
      "719 817\n"
     ]
    }
   ],
   "source": [
    "count = 0\n",
    "for i in ivs:\n",
    "    if i==-1:\n",
    "        count+=1\n",
    "print(count,len(ivs))\n"
   ]
  },
  {
   "cell_type": "code",
   "execution_count": null,
   "id": "c4a57680",
   "metadata": {
    "scrolled": false
   },
   "outputs": [],
   "source": [
    "\n",
    "\n",
    "# Objective Function\n",
    "def objective_function(parameter):\n",
    "    # Calculate the squared sum of differences between experimental and theoretical values\n",
    "    theoretical_values = theoretical_calculation(parameter)\n",
    "    differences = experimental_values - theoretical_values\n",
    "    squared_sum = np.sum(differences ** 2)\n",
    "    return squared_sum\n",
    "\n",
    "# Grid Search for Parameter Calibration\n",
    "min_parameter = 0.0\n",
    "max_parameter = 5.0\n",
    "step_size = 0.1\n",
    "\n",
    "best_parameter = None\n",
    "best_error = np.inf\n",
    "\n",
    "for parameter in np.arange(min_parameter, max_parameter + step_size, step_size):\n",
    "    error = objective_function(parameter)\n",
    "    if error < best_error:\n",
    "        best_error = error\n",
    "        best_parameter = parameter\n",
    "\n",
    "print(\"Optimal Parameter Value:\", best_parameter)"
   ]
  }
 ],
 "metadata": {
  "kernelspec": {
   "display_name": "Python 3.10 (tensorflow)",
   "language": "python",
   "name": "tensorflow"
  },
  "language_info": {
   "codemirror_mode": {
    "name": "ipython",
    "version": 3
   },
   "file_extension": ".py",
   "mimetype": "text/x-python",
   "name": "python",
   "nbconvert_exporter": "python",
   "pygments_lexer": "ipython3",
   "version": "3.10.10"
  }
 },
 "nbformat": 4,
 "nbformat_minor": 5
}
