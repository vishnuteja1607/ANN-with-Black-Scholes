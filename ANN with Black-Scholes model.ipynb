{
 "cells": [
  {
   "cell_type": "markdown",
   "id": "5160350e",
   "metadata": {},
   "source": [
    "1. Generate random numbers for the Black-Scholes model parameters\n",
    "2. Calculate call option prices.\n",
    "3. Buill an ANN on this."
   ]
  },
  {
   "cell_type": "code",
   "execution_count": 1,
   "id": "241f5c83",
   "metadata": {},
   "outputs": [],
   "source": [
    "import pandas as pd\n",
    "import numpy as np \n",
    "import matplotlib.pyplot as plt\n",
    "from scipy.stats import norm\n",
    "\n",
    "from sklearn.model_selection import train_test_split\n",
    "from sklearn.linear_model import LinearRegression\n",
    "from sklearn.metrics import mean_squared_error\n",
    "from sklearn.preprocessing import StandardScaler\n",
    "\n",
    "\n",
    "import tensorflow as tf\n",
    "from tensorflow.keras.layers import Dense\n",
    "from tensorflow import keras"
   ]
  },
  {
   "cell_type": "markdown",
   "id": "cab1a800",
   "metadata": {},
   "source": [
    "We will focus on call options. The formula is given below:\n",
    "\n",
    "$c = {S_0}N(d_1) - Ke^{-rT}N(d_2)$</br>\n",
    "$d_1 = \\frac{ \\ln{\\frac{S_0}{K}} + (r+0.5{\\sigma}^2)T}{\\sigma\\sqrt{T}}$</br>\n",
    "$d_2 = d_1 - \\sigma\\sqrt{T} $\n"
   ]
  },
  {
   "cell_type": "markdown",
   "id": "d3813453",
   "metadata": {},
   "source": [
    "S<sub>0</sub> = stock price at time 0</br>\n",
    "K = strike Price</br>\n",
    "r = risk free rate of interest</br>\n",
    "T = time to maturity of the call option</br>\n",
    "$\\sigma$ = volatility of the stock price</br>\n",
    "\n",
    "N(x) = Cumulative distribution function of a standard normal random variable x"
   ]
  },
  {
   "cell_type": "markdown",
   "id": "2d61bde6",
   "metadata": {},
   "source": [
    "## Random Number Generation of the parameters\n"
   ]
  },
  {
   "cell_type": "code",
   "execution_count": 2,
   "id": "0c2b081d",
   "metadata": {},
   "outputs": [],
   "source": [
    "m = 20000\n",
    "\n",
    "S = np.random.uniform(100,150,m)\n",
    "K = np.random.uniform(0.5*S,1.5*S,m)\n",
    "r = np.random.uniform(0,0.05,m)\n",
    "sigma = np.random.uniform(0.1,0.4,m)\n",
    "T = np.random.uniform(0.25,1,m)"
   ]
  },
  {
   "cell_type": "markdown",
   "id": "c13e3948",
   "metadata": {},
   "source": [
    "## Calculate Call Option prices using Black Scholes Formula"
   ]
  },
  {
   "cell_type": "code",
   "execution_count": 3,
   "id": "3b8a2617",
   "metadata": {},
   "outputs": [],
   "source": [
    "def get_bs_call(S,K,r,sigma,T):\n",
    "    \n",
    "    d1 = (np.log(S/K) + (r+0.5*(sigma**2))*T)/(sigma*np.sqrt(T))\n",
    "    d2 = d1 - sigma*np.sqrt(T)\n",
    "    \n",
    "    c = S*norm.cdf(d1) - K*np.exp(-r*T)*norm.cdf(d2)\n",
    "    \n",
    "    return c\n",
    "    "
   ]
  },
  {
   "cell_type": "code",
   "execution_count": 4,
   "id": "6d0a1090",
   "metadata": {},
   "outputs": [],
   "source": [
    "C = []\n",
    "\n",
    "for i in range(m):\n",
    "    \n",
    "    calls = get_bs_call(S[i],K[i],r[i],sigma[i],T[i])\n",
    "    C.append(calls)"
   ]
  },
  {
   "cell_type": "markdown",
   "id": "7f9bcf45",
   "metadata": {},
   "source": [
    "## Prepare the data to train the ANN"
   ]
  },
  {
   "cell_type": "code",
   "execution_count": 5,
   "id": "363fe89e",
   "metadata": {},
   "outputs": [],
   "source": [
    "data = {'Spot Price':S,'Strike Price':K,'Risk free rate':r,'Volatility':sigma,'Maturity(yrs)':T,'Call price':C}\n",
    "df = pd.DataFrame(data)"
   ]
  },
  {
   "cell_type": "code",
   "execution_count": 6,
   "id": "eb9d3f92",
   "metadata": {},
   "outputs": [
    {
     "data": {
      "text/html": [
       "<div>\n",
       "<style scoped>\n",
       "    .dataframe tbody tr th:only-of-type {\n",
       "        vertical-align: middle;\n",
       "    }\n",
       "\n",
       "    .dataframe tbody tr th {\n",
       "        vertical-align: top;\n",
       "    }\n",
       "\n",
       "    .dataframe thead th {\n",
       "        text-align: right;\n",
       "    }\n",
       "</style>\n",
       "<table border=\"1\" class=\"dataframe\">\n",
       "  <thead>\n",
       "    <tr style=\"text-align: right;\">\n",
       "      <th></th>\n",
       "      <th>Spot Price</th>\n",
       "      <th>Strike Price</th>\n",
       "      <th>Risk free rate</th>\n",
       "      <th>Volatility</th>\n",
       "      <th>Maturity(yrs)</th>\n",
       "      <th>Call price</th>\n",
       "    </tr>\n",
       "  </thead>\n",
       "  <tbody>\n",
       "    <tr>\n",
       "      <th>0</th>\n",
       "      <td>110.912024</td>\n",
       "      <td>141.398356</td>\n",
       "      <td>0.027970</td>\n",
       "      <td>0.153764</td>\n",
       "      <td>0.772532</td>\n",
       "      <td>0.355854</td>\n",
       "    </tr>\n",
       "    <tr>\n",
       "      <th>1</th>\n",
       "      <td>118.421798</td>\n",
       "      <td>175.553011</td>\n",
       "      <td>0.042382</td>\n",
       "      <td>0.362933</td>\n",
       "      <td>0.363090</td>\n",
       "      <td>0.529535</td>\n",
       "    </tr>\n",
       "    <tr>\n",
       "      <th>2</th>\n",
       "      <td>126.481876</td>\n",
       "      <td>182.519771</td>\n",
       "      <td>0.001708</td>\n",
       "      <td>0.105890</td>\n",
       "      <td>0.524167</td>\n",
       "      <td>0.000002</td>\n",
       "    </tr>\n",
       "    <tr>\n",
       "      <th>3</th>\n",
       "      <td>139.986255</td>\n",
       "      <td>180.928097</td>\n",
       "      <td>0.030799</td>\n",
       "      <td>0.129659</td>\n",
       "      <td>0.418294</td>\n",
       "      <td>0.007036</td>\n",
       "    </tr>\n",
       "    <tr>\n",
       "      <th>4</th>\n",
       "      <td>113.820783</td>\n",
       "      <td>154.433944</td>\n",
       "      <td>0.026672</td>\n",
       "      <td>0.177290</td>\n",
       "      <td>0.967701</td>\n",
       "      <td>0.526994</td>\n",
       "    </tr>\n",
       "  </tbody>\n",
       "</table>\n",
       "</div>"
      ],
      "text/plain": [
       "   Spot Price  Strike Price  Risk free rate  Volatility  Maturity(yrs)   \n",
       "0  110.912024    141.398356        0.027970    0.153764       0.772532  \\\n",
       "1  118.421798    175.553011        0.042382    0.362933       0.363090   \n",
       "2  126.481876    182.519771        0.001708    0.105890       0.524167   \n",
       "3  139.986255    180.928097        0.030799    0.129659       0.418294   \n",
       "4  113.820783    154.433944        0.026672    0.177290       0.967701   \n",
       "\n",
       "   Call price  \n",
       "0    0.355854  \n",
       "1    0.529535  \n",
       "2    0.000002  \n",
       "3    0.007036  \n",
       "4    0.526994  "
      ]
     },
     "execution_count": 6,
     "metadata": {},
     "output_type": "execute_result"
    }
   ],
   "source": [
    "df.head()"
   ]
  },
  {
   "cell_type": "code",
   "execution_count": 7,
   "id": "8b987751",
   "metadata": {},
   "outputs": [],
   "source": [
    "X = df.drop('Call price',axis =1)\n",
    "y = df['Call price']"
   ]
  },
  {
   "cell_type": "code",
   "execution_count": 8,
   "id": "6082e0c1",
   "metadata": {},
   "outputs": [],
   "source": [
    "# divide data into training set and test set\n",
    "X_train,X_test,y_train,y_test=train_test_split(X,y,test_size=0.25,random_state=100)\n",
    "\n",
    "# divide training set into training and validation set\n",
    "X_train,X_val,y_train,y_val=train_test_split(X_train,y_train,test_size=0.25,random_state=100)"
   ]
  },
  {
   "cell_type": "code",
   "execution_count": 9,
   "id": "b1b7e598",
   "metadata": {},
   "outputs": [],
   "source": [
    "# Scale features\n",
    "scaler = StandardScaler()\n",
    "scaler.fit(X_train)\n",
    "\n",
    "\n",
    "X_scaled_train = scaler.transform(X_train)\n",
    "X_scaled_vals = scaler.transform(X_val)\n",
    "X_scaled_test = scaler.transform(X_test)\n",
    "y_train = np.asarray(y_train)\n",
    "y_val = np.asarray(y_val)\n",
    "y_test = np.asarray(y_test)"
   ]
  },
  {
   "cell_type": "code",
   "execution_count": 10,
   "id": "8d6d0df2",
   "metadata": {},
   "outputs": [
    {
     "name": "stdout",
     "output_type": "stream",
     "text": [
      "Metal device set to: Apple M1\n",
      "Model: \"sequential\"\n",
      "_________________________________________________________________\n",
      " Layer (type)                Output Shape              Param #   \n",
      "=================================================================\n",
      " flatten (Flatten)           (None, 5)                 0         \n",
      "                                                                 \n",
      " dense (Dense)               (None, 20)                120       \n",
      "                                                                 \n",
      " dense_1 (Dense)             (None, 20)                420       \n",
      "                                                                 \n",
      " dense_2 (Dense)             (None, 20)                420       \n",
      "                                                                 \n",
      " dense_3 (Dense)             (None, 1)                 21        \n",
      "                                                                 \n",
      "=================================================================\n",
      "Total params: 981\n",
      "Trainable params: 981\n",
      "Non-trainable params: 0\n",
      "_________________________________________________________________\n"
     ]
    }
   ],
   "source": [
    "tf.random.set_seed(123)\n",
    "model1 = keras.Sequential([\n",
    "    keras.layers.Flatten(input_shape=(X_train.shape[1],)), #the input layer\n",
    "    keras.layers.Dense(20,activation='sigmoid'), #hidden layer with 20 neurons and sigmoid activation function\n",
    "    keras.layers.Dense(20,activation='sigmoid'),\n",
    "    keras.layers.Dense(20,activation='sigmoid'),\n",
    "    keras.layers.Dense(1,activation='linear') \n",
    "])\n",
    "\n",
    "model1.compile(optimizer = 'adam',loss = 'mse')\n",
    "model1.summary()"
   ]
  },
  {
   "cell_type": "code",
   "execution_count": 11,
   "id": "c5004385",
   "metadata": {},
   "outputs": [
    {
     "name": "stdout",
     "output_type": "stream",
     "text": [
      "Epoch 1/100\n"
     ]
    },
    {
     "name": "stderr",
     "output_type": "stream",
     "text": [
      "2023-07-08 12:03:50.811120: W tensorflow/tsl/platform/profile_utils/cpu_utils.cc:128] Failed to get CPU frequency: 0 Hz\n"
     ]
    },
    {
     "name": "stdout",
     "output_type": "stream",
     "text": [
      "352/352 [==============================] - 2s 5ms/step - loss: 612.8282 - val_loss: 520.6284\n",
      "Epoch 2/100\n",
      "352/352 [==============================] - 2s 5ms/step - loss: 468.9935 - val_loss: 433.7925\n",
      "Epoch 3/100\n",
      "352/352 [==============================] - 2s 5ms/step - loss: 412.5662 - val_loss: 401.9819\n",
      "Epoch 4/100\n",
      "352/352 [==============================] - 2s 5ms/step - loss: 386.8576 - val_loss: 349.2570\n",
      "Epoch 5/100\n",
      "352/352 [==============================] - 2s 5ms/step - loss: 256.0529 - val_loss: 198.1744\n",
      "Epoch 6/100\n",
      "352/352 [==============================] - 2s 5ms/step - loss: 164.5710 - val_loss: 137.3658\n",
      "Epoch 7/100\n",
      "352/352 [==============================] - 2s 5ms/step - loss: 116.7178 - val_loss: 98.9711\n",
      "Epoch 8/100\n",
      "352/352 [==============================] - 2s 5ms/step - loss: 83.1319 - val_loss: 69.7591\n",
      "Epoch 9/100\n",
      "352/352 [==============================] - 2s 5ms/step - loss: 58.6141 - val_loss: 49.5905\n",
      "Epoch 10/100\n",
      "352/352 [==============================] - 2s 5ms/step - loss: 41.8458 - val_loss: 35.8471\n",
      "Epoch 11/100\n",
      "352/352 [==============================] - 2s 5ms/step - loss: 30.1838 - val_loss: 26.0711\n",
      "Epoch 12/100\n",
      "352/352 [==============================] - 2s 6ms/step - loss: 21.9281 - val_loss: 19.0807\n",
      "Epoch 13/100\n",
      "352/352 [==============================] - 2s 5ms/step - loss: 16.0006 - val_loss: 13.9868\n",
      "Epoch 14/100\n",
      "352/352 [==============================] - 2s 5ms/step - loss: 11.7228 - val_loss: 10.2645\n",
      "Epoch 15/100\n",
      "352/352 [==============================] - 2s 5ms/step - loss: 8.6309 - val_loss: 7.5796\n",
      "Epoch 16/100\n",
      "352/352 [==============================] - 2s 6ms/step - loss: 6.3871 - val_loss: 5.6266\n",
      "Epoch 17/100\n",
      "352/352 [==============================] - 2s 5ms/step - loss: 4.7408 - val_loss: 4.1495\n",
      "Epoch 18/100\n",
      "352/352 [==============================] - 2s 5ms/step - loss: 3.5300 - val_loss: 3.0629\n",
      "Epoch 19/100\n",
      "352/352 [==============================] - 2s 5ms/step - loss: 2.6385 - val_loss: 2.2816\n",
      "Epoch 20/100\n",
      "352/352 [==============================] - 2s 5ms/step - loss: 1.9766 - val_loss: 1.7058\n",
      "Epoch 21/100\n",
      "352/352 [==============================] - 2s 5ms/step - loss: 1.4888 - val_loss: 1.2836\n",
      "Epoch 22/100\n",
      "352/352 [==============================] - 2s 5ms/step - loss: 1.1295 - val_loss: 0.9649\n",
      "Epoch 23/100\n",
      "352/352 [==============================] - 2s 6ms/step - loss: 0.8655 - val_loss: 0.7403\n",
      "Epoch 24/100\n",
      "352/352 [==============================] - 2s 5ms/step - loss: 0.6703 - val_loss: 0.5817\n",
      "Epoch 25/100\n",
      "352/352 [==============================] - 2s 5ms/step - loss: 0.5248 - val_loss: 0.4637\n",
      "Epoch 26/100\n",
      "352/352 [==============================] - 2s 5ms/step - loss: 0.4158 - val_loss: 0.3772\n",
      "Epoch 27/100\n",
      "352/352 [==============================] - 2s 5ms/step - loss: 0.3354 - val_loss: 0.3068\n",
      "Epoch 28/100\n",
      "352/352 [==============================] - 2s 5ms/step - loss: 0.2729 - val_loss: 0.2552\n",
      "Epoch 29/100\n",
      "352/352 [==============================] - 2s 5ms/step - loss: 0.2281 - val_loss: 0.2166\n",
      "Epoch 30/100\n",
      "352/352 [==============================] - 2s 5ms/step - loss: 0.1935 - val_loss: 0.1959\n",
      "Epoch 31/100\n",
      "352/352 [==============================] - 2s 5ms/step - loss: 0.1663 - val_loss: 0.1653\n",
      "Epoch 32/100\n",
      "352/352 [==============================] - 2s 5ms/step - loss: 0.1431 - val_loss: 0.1435\n",
      "Epoch 33/100\n",
      "352/352 [==============================] - 2s 5ms/step - loss: 0.1263 - val_loss: 0.1286\n",
      "Epoch 34/100\n",
      "352/352 [==============================] - 2s 5ms/step - loss: 0.1132 - val_loss: 0.1123\n",
      "Epoch 35/100\n",
      "352/352 [==============================] - 2s 5ms/step - loss: 0.1014 - val_loss: 0.1148\n",
      "Epoch 36/100\n",
      "352/352 [==============================] - 2s 5ms/step - loss: 0.0898 - val_loss: 0.0947\n",
      "Epoch 37/100\n",
      "352/352 [==============================] - 2s 5ms/step - loss: 0.0825 - val_loss: 0.0904\n",
      "Epoch 38/100\n",
      "352/352 [==============================] - 2s 5ms/step - loss: 0.0734 - val_loss: 0.0745\n",
      "Epoch 39/100\n",
      "352/352 [==============================] - 2s 5ms/step - loss: 0.0687 - val_loss: 0.0683\n",
      "Epoch 40/100\n",
      "352/352 [==============================] - 2s 5ms/step - loss: 0.0635 - val_loss: 0.0693\n",
      "Epoch 41/100\n",
      "352/352 [==============================] - 2s 5ms/step - loss: 0.0586 - val_loss: 0.0613\n",
      "Epoch 42/100\n",
      "352/352 [==============================] - 2s 5ms/step - loss: 0.0546 - val_loss: 0.0573\n",
      "Epoch 43/100\n",
      "352/352 [==============================] - 2s 5ms/step - loss: 0.0514 - val_loss: 0.0517\n",
      "Epoch 44/100\n",
      "352/352 [==============================] - 2s 5ms/step - loss: 0.0488 - val_loss: 0.0491\n",
      "Epoch 45/100\n",
      "352/352 [==============================] - 2s 5ms/step - loss: 0.0467 - val_loss: 0.0467\n",
      "Epoch 46/100\n",
      "352/352 [==============================] - 2s 5ms/step - loss: 0.0440 - val_loss: 0.0425\n",
      "Epoch 47/100\n",
      "352/352 [==============================] - 2s 5ms/step - loss: 0.0431 - val_loss: 0.0423\n",
      "Epoch 48/100\n",
      "352/352 [==============================] - 2s 5ms/step - loss: 0.0411 - val_loss: 0.0403\n",
      "Epoch 49/100\n",
      "352/352 [==============================] - 2s 5ms/step - loss: 0.0416 - val_loss: 0.0425\n",
      "Epoch 50/100\n",
      "352/352 [==============================] - 2s 5ms/step - loss: 0.0385 - val_loss: 0.0398\n",
      "Epoch 51/100\n",
      "352/352 [==============================] - 2s 5ms/step - loss: 0.0385 - val_loss: 0.0368\n",
      "Epoch 52/100\n",
      "352/352 [==============================] - 2s 5ms/step - loss: 0.0356 - val_loss: 0.0364\n",
      "Epoch 53/100\n",
      "352/352 [==============================] - 2s 6ms/step - loss: 0.0351 - val_loss: 0.0451\n",
      "Epoch 54/100\n",
      "352/352 [==============================] - 2s 5ms/step - loss: 0.0345 - val_loss: 0.0362\n",
      "Epoch 55/100\n",
      "352/352 [==============================] - 2s 5ms/step - loss: 0.0350 - val_loss: 0.0373\n",
      "Epoch 56/100\n",
      "352/352 [==============================] - 2s 5ms/step - loss: 0.0341 - val_loss: 0.0352\n",
      "Epoch 57/100\n",
      "352/352 [==============================] - 2s 5ms/step - loss: 0.0338 - val_loss: 0.0313\n",
      "Epoch 58/100\n",
      "352/352 [==============================] - 2s 5ms/step - loss: 0.0321 - val_loss: 0.0320\n",
      "Epoch 59/100\n",
      "352/352 [==============================] - 2s 5ms/step - loss: 0.0325 - val_loss: 0.0364\n",
      "Epoch 60/100\n",
      "352/352 [==============================] - 2s 5ms/step - loss: 0.0316 - val_loss: 0.0337\n",
      "Epoch 61/100\n",
      "352/352 [==============================] - 2s 5ms/step - loss: 0.0306 - val_loss: 0.0283\n",
      "Epoch 62/100\n",
      "352/352 [==============================] - 2s 5ms/step - loss: 0.0308 - val_loss: 0.0306\n",
      "Epoch 63/100\n",
      "352/352 [==============================] - 2s 6ms/step - loss: 0.0298 - val_loss: 0.0289\n",
      "Epoch 64/100\n",
      "352/352 [==============================] - 2s 5ms/step - loss: 0.0296 - val_loss: 0.0363\n",
      "Epoch 65/100\n",
      "352/352 [==============================] - 2s 5ms/step - loss: 0.0290 - val_loss: 0.0302\n",
      "Epoch 66/100\n",
      "352/352 [==============================] - 2s 5ms/step - loss: 0.0307 - val_loss: 0.0310\n",
      "Epoch 67/100\n",
      "352/352 [==============================] - 2s 5ms/step - loss: 0.0293 - val_loss: 0.0271\n",
      "Epoch 68/100\n",
      "352/352 [==============================] - 2s 5ms/step - loss: 0.0285 - val_loss: 0.0271\n",
      "Epoch 69/100\n",
      "352/352 [==============================] - 2s 5ms/step - loss: 0.0285 - val_loss: 0.0274\n",
      "Epoch 70/100\n",
      "352/352 [==============================] - 2s 5ms/step - loss: 0.0281 - val_loss: 0.0271\n",
      "Epoch 71/100\n",
      "352/352 [==============================] - 2s 5ms/step - loss: 0.0275 - val_loss: 0.0263\n",
      "Epoch 72/100\n",
      "352/352 [==============================] - 2s 5ms/step - loss: 0.0271 - val_loss: 0.0266\n",
      "Epoch 73/100\n",
      "352/352 [==============================] - 2s 5ms/step - loss: 0.0265 - val_loss: 0.0271\n",
      "Epoch 74/100\n",
      "352/352 [==============================] - 2s 5ms/step - loss: 0.0260 - val_loss: 0.0268\n",
      "Epoch 75/100\n",
      "352/352 [==============================] - 2s 5ms/step - loss: 0.0265 - val_loss: 0.0250\n",
      "Epoch 76/100\n",
      "352/352 [==============================] - 2s 5ms/step - loss: 0.0254 - val_loss: 0.0244\n",
      "Epoch 77/100\n",
      "352/352 [==============================] - 2s 5ms/step - loss: 0.0254 - val_loss: 0.0239\n",
      "Epoch 78/100\n",
      "352/352 [==============================] - 2s 5ms/step - loss: 0.0250 - val_loss: 0.0253\n",
      "Epoch 79/100\n",
      "352/352 [==============================] - 2s 5ms/step - loss: 0.0253 - val_loss: 0.0267\n",
      "Epoch 80/100\n",
      "352/352 [==============================] - 2s 5ms/step - loss: 0.0243 - val_loss: 0.0240\n",
      "Epoch 81/100\n"
     ]
    },
    {
     "name": "stdout",
     "output_type": "stream",
     "text": [
      "352/352 [==============================] - 2s 5ms/step - loss: 0.0244 - val_loss: 0.0216\n",
      "Epoch 82/100\n",
      "352/352 [==============================] - 2s 5ms/step - loss: 0.0244 - val_loss: 0.0231\n",
      "Epoch 83/100\n",
      "352/352 [==============================] - 2s 6ms/step - loss: 0.0236 - val_loss: 0.0224\n",
      "Epoch 84/100\n",
      "352/352 [==============================] - 2s 5ms/step - loss: 0.0227 - val_loss: 0.0237\n",
      "Epoch 85/100\n",
      "352/352 [==============================] - 2s 5ms/step - loss: 0.0235 - val_loss: 0.0227\n",
      "Epoch 86/100\n",
      "352/352 [==============================] - 2s 5ms/step - loss: 0.0228 - val_loss: 0.0275\n",
      "Epoch 87/100\n",
      "352/352 [==============================] - 2s 5ms/step - loss: 0.0229 - val_loss: 0.0207\n",
      "Epoch 88/100\n",
      "352/352 [==============================] - 2s 5ms/step - loss: 0.0240 - val_loss: 0.0235\n",
      "Epoch 89/100\n",
      "352/352 [==============================] - 2s 5ms/step - loss: 0.0229 - val_loss: 0.0206\n",
      "Epoch 90/100\n",
      "352/352 [==============================] - 2s 5ms/step - loss: 0.0218 - val_loss: 0.0270\n",
      "Epoch 91/100\n",
      "352/352 [==============================] - 2s 5ms/step - loss: 0.0215 - val_loss: 0.0237\n",
      "Epoch 92/100\n",
      "352/352 [==============================] - 2s 5ms/step - loss: 0.0215 - val_loss: 0.0195\n",
      "Epoch 93/100\n",
      "352/352 [==============================] - 2s 5ms/step - loss: 0.0219 - val_loss: 0.0193\n",
      "Epoch 94/100\n",
      "352/352 [==============================] - 2s 5ms/step - loss: 0.0212 - val_loss: 0.0200\n",
      "Epoch 95/100\n",
      "352/352 [==============================] - 2s 5ms/step - loss: 0.0208 - val_loss: 0.0181\n",
      "Epoch 96/100\n",
      "352/352 [==============================] - 2s 5ms/step - loss: 0.0204 - val_loss: 0.0213\n",
      "Epoch 97/100\n",
      "352/352 [==============================] - 2s 5ms/step - loss: 0.0204 - val_loss: 0.0202\n",
      "Epoch 98/100\n",
      "352/352 [==============================] - 2s 5ms/step - loss: 0.0197 - val_loss: 0.0188\n",
      "Epoch 99/100\n",
      "352/352 [==============================] - 2s 5ms/step - loss: 0.0206 - val_loss: 0.0283\n",
      "Epoch 100/100\n",
      "352/352 [==============================] - 2s 5ms/step - loss: 0.0196 - val_loss: 0.0187\n"
     ]
    }
   ],
   "source": [
    "history1 = model1.fit(X_scaled_train,y_train,epochs=100,validation_data=(X_scaled_vals,y_val))"
   ]
  },
  {
   "cell_type": "code",
   "execution_count": 12,
   "id": "7125868c",
   "metadata": {},
   "outputs": [
    {
     "data": {
      "image/png": "[encoded data removed]",
      "text/plain": [
       "<Figure size 640x480 with 1 Axes>"
      ]
     },
     "metadata": {},
     "output_type": "display_data"
    }
   ],
   "source": [
    "plt.plot(history1.history['loss'])\n",
    "plt.plot(history1.history['val_loss'])\n",
    "plt.xlabel(\"Epochs\")\n",
    "plt.ylabel(\"Training Loss\")\n",
    "plt.title(\"Model 1: Loss vs Epochs\")\n",
    "plt.legend(['training set','validation set'])\n",
    "plt.show()"
   ]
  },
  {
   "cell_type": "code",
   "execution_count": 13,
   "id": "49620adb",
   "metadata": {},
   "outputs": [
    {
     "name": "stdout",
     "output_type": "stream",
     "text": [
      "157/157 [==============================] - 1s 4ms/step - loss: 0.0192\n"
     ]
    },
    {
     "data": {
      "text/plain": [
       "0.01923130452632904"
      ]
     },
     "execution_count": 13,
     "metadata": {},
     "output_type": "execute_result"
    }
   ],
   "source": [
    "model1.evaluate(X_scaled_test,y_test)"
   ]
  },
  {
   "cell_type": "markdown",
   "id": "24ad78c3",
   "metadata": {},
   "source": [
    "**It appears that the machine has fit the model quite well!**"
   ]
  },
  {
   "cell_type": "code",
   "execution_count": 14,
   "id": "f04cad64",
   "metadata": {},
   "outputs": [
    {
     "name": "stdout",
     "output_type": "stream",
     "text": [
      "157/157 [==============================] - 0s 1ms/step\n"
     ]
    }
   ],
   "source": [
    "preds1 = model1.predict(X_scaled_test)"
   ]
  },
  {
   "cell_type": "code",
   "execution_count": 25,
   "id": "a9bec1a6",
   "metadata": {},
   "outputs": [
    {
     "name": "stdout",
     "output_type": "stream",
     "text": [
      "5000\n",
      "240\n"
     ]
    }
   ],
   "source": [
    "print(len(preds1))\n",
    "\n",
    "count = 0\n",
    "\n",
    "for i in range(5000):\n",
    "    \n",
    "    if preds1[i]<0:\n",
    "        count+=1\n",
    "print(count)"
   ]
  },
  {
   "cell_type": "code",
   "execution_count": 16,
   "id": "a5a080b2",
   "metadata": {},
   "outputs": [
    {
     "data": {
      "text/plain": [
       "770.0657048269371"
      ]
     },
     "execution_count": 16,
     "metadata": {},
     "output_type": "execute_result"
    }
   ],
   "source": [
    "mse = np.mean((preds1-y_test)**2)\n",
    "mse"
   ]
  },
  {
   "cell_type": "code",
   "execution_count": 21,
   "id": "ae782979",
   "metadata": {},
   "outputs": [
    {
     "name": "stdout",
     "output_type": "stream",
     "text": [
      "0.3558523759460197\n",
      "1/1 [==============================] - 0s 16ms/step\n"
     ]
    },
    {
     "data": {
      "text/plain": [
       "array([[-0.16930413]], dtype=float32)"
      ]
     },
     "execution_count": 21,
     "metadata": {},
     "output_type": "execute_result"
    }
   ],
   "source": [
    "d1 = np.array([[110.912024,141.398356,0.027970,0.153764,0.772532]])\n",
    "print(get_bs_call(110.912024,141.398356,0.027970,0.153764,0.772532))\n",
    "model1.predict(d1)"
   ]
  },
  {
   "cell_type": "code",
   "execution_count": null,
   "id": "7e8eb150",
   "metadata": {},
   "outputs": [],
   "source": [
    "#sigma, st (ANN - market)^2 sum is mini"
   ]
  }
 ],
 "metadata": {
  "kernelspec": {
   "display_name": "Python 3.10 (tensorflow)",
   "language": "python",
   "name": "tensorflow"
  },
  "language_info": {
   "codemirror_mode": {
    "name": "ipython",
    "version": 3
   },
   "file_extension": ".py",
   "mimetype": "text/x-python",
   "name": "python",
   "nbconvert_exporter": "python",
   "pygments_lexer": "ipython3",
   "version": "3.10.10"
  }
 },
 "nbformat": 4,
 "nbformat_minor": 5
}
